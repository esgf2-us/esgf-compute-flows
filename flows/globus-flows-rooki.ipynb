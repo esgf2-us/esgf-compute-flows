{
 "cells": [
  {
   "cell_type": "markdown",
   "id": "f9efbd2a-e3d5-49f0-bfdc-4ec0b2a6dbc0",
   "metadata": {},
   "source": [
    "# Use Globus Compute/Flows with WPS"
   ]
  },
  {
   "cell_type": "markdown",
   "id": "255f91e6-8fc1-4748-b4ed-e9727467944a",
   "metadata": {},
   "source": [
    "## Setup Globus Compute Client"
   ]
  },
  {
   "cell_type": "code",
   "execution_count": 1,
   "id": "fab5392c-012f-4c6c-bc2e-443711d5aafa",
   "metadata": {
    "tags": []
   },
   "outputs": [],
   "source": [
    "import time\n",
    "import json\n",
    "import datetime\n",
    "import globus_sdk\n",
    "import os\n",
    "\n",
    "from globus_sdk import TimerJob\n",
    "from globus_compute_sdk import Executor, Client\n",
    "from globus_sdk.experimental.globus_app import UserApp\n",
    "\n",
    "from globus_sdk.utils import slash_join"
   ]
  },
  {
   "cell_type": "code",
   "execution_count": 2,
   "id": "b1de2e23-cece-4bad-b9e0-0928edac4f06",
   "metadata": {
    "tags": []
   },
   "outputs": [],
   "source": [
    "CLIENT_ID = \"c781864e-a9c9-482e-8db8-d58ac5962a86\"\n",
    "my_app = UserApp(\"crocus-user-app\", client_id=CLIENT_ID)\n",
    "\n",
    "flows_client = globus_sdk.FlowsClient(app=my_app)"
   ]
  },
  {
   "cell_type": "code",
   "execution_count": 3,
   "id": "6f1b1291-6b64-4de5-a50a-703a6a2c6e86",
   "metadata": {
    "tags": []
   },
   "outputs": [],
   "source": [
    "compute_endpoint = \"66848d37-a40d-4c46-ac49-1bcc4bad1e54\""
   ]
  },
  {
   "cell_type": "code",
   "execution_count": 4,
   "id": "37222ded-7371-48e5-b1c7-964de7eed18f",
   "metadata": {
    "tags": []
   },
   "outputs": [],
   "source": [
    "gce = Executor(endpoint_id=compute_endpoint)"
   ]
  },
  {
   "cell_type": "markdown",
   "id": "97eee206-22a8-466c-9fbc-651f41d1b6db",
   "metadata": {},
   "source": [
    "## Configure the Endpoint and Submit the Function"
   ]
  },
  {
   "cell_type": "code",
   "execution_count": 5,
   "id": "2f4af0f6-4cc1-462b-be04-9b1d0c5de824",
   "metadata": {
    "tags": []
   },
   "outputs": [],
   "source": [
    "gce = Executor(endpoint_id=compute_endpoint)"
   ]
  },
  {
   "cell_type": "code",
   "execution_count": 6,
   "id": "9ff264ac-d248-4a1e-a5c7-80cb16e396dd",
   "metadata": {
    "tags": []
   },
   "outputs": [],
   "source": [
    "function_id = \"35e5c49c-379e-4d6c-8430-1508caacbf56\""
   ]
  },
  {
   "cell_type": "code",
   "execution_count": 12,
   "id": "de8a5a48-9e5f-4d0f-bb9b-bd1c8973be53",
   "metadata": {
    "tags": []
   },
   "outputs": [
    {
     "data": {
      "text/plain": [
       "'/Users/mgrover/git_repos/esgf-crocus-globus-flows/flows/esgf'"
      ]
     },
     "execution_count": 12,
     "metadata": {},
     "output_type": "execute_result"
    }
   ],
   "source": [
    "os.getcwd()"
   ]
  },
  {
   "cell_type": "code",
   "execution_count": 56,
   "id": "2c0022c3-2902-437c-b3b1-7c70fd0acd08",
   "metadata": {},
   "outputs": [],
   "source": [
    "# Prepare payload for ESGF ingest-wxt\n",
    "esgf_wps_data = {\n",
    "    \"node\": \"DKRZ\",\n",
    "    \"start_date\":\"1990-01-01\",\n",
    "    \"end_date\":\"2000-01-01\",\n",
    "    \"lat_min\":0,\n",
    "    \"lat_max\":35,\n",
    "    \"lon_min\":65,\n",
    "    \"lon_max\":100,\n",
    "    \"average_frequency\":\"year\",\n",
    "    \"experiment_id\":[\"historical\"],\n",
    "    \"variable_id\":[\"tas\"],\n",
    "    \"member_id\":[\"r1i1p1f1\"],\n",
    "    \"table_id\":[\"Amon\"],\n",
    "    \"institution_id\":[\"MIROC\"],\n",
    "    \"odir\":\"/Users/mgrover/git_repos/esgf-crocus-globus-flows/data\"\n",
    "}\n",
    "\n",
    "# Start the task\n",
    "future = gce.submit_to_registered_function(function_id, kwargs=esgf_wps_data)"
   ]
  },
  {
   "cell_type": "code",
   "execution_count": 57,
   "id": "5be92379-cbef-4359-94b1-538fe248837f",
   "metadata": {
    "tags": []
   },
   "outputs": [
    {
     "data": {
      "text/plain": [
       "['/Users/mgrover/git_repos/esgf-crocus-globus-flows/data/tas_Amon_MIROC6_historical_r1i1p1f1_gn_19900101-19990101_avg-year.nc']"
      ]
     },
     "execution_count": 57,
     "metadata": {},
     "output_type": "execute_result"
    }
   ],
   "source": [
    "future.result()"
   ]
  },
  {
   "cell_type": "code",
   "execution_count": 58,
   "id": "d585f0be-b792-4c95-8317-eadad8d0d5b7",
   "metadata": {
    "tags": []
   },
   "outputs": [],
   "source": [
    "flow_definition = {\n",
    "    \"Comment\": \"A Web Processing Services (WPS) Demonstration for ESGF Hosted Data\",\n",
    "    \"StartAt\": \"TransferInput\",\n",
    "    \"States\": {\n",
    "        \"TransferInput\": {\n",
    "            \"Comment\": \"Transfer input data\",\n",
    "            \"Type\": \"Action\",\n",
    "            \"ActionUrl\": \"https://transfer.actions.globus.org/transfer\",\n",
    "            \"Parameters\": {\n",
    "                \"source_endpoint.$\": \"$.input.source.id\",\n",
    "                \"destination_endpoint.$\": \"$.input.destination.id\",\n",
    "                \"DATA\": [\n",
    "                    {\n",
    "                        \"source_path.$\": \"$.input.source.path\",\n",
    "                        \"destination_path.$\": \"$.input.destination.path\",\n",
    "                        \"recursive\": True,\n",
    "                    }\n",
    "                ]\n",
    "            },\n",
    "            \"ResultPath\": \"$.TransferFiles\",\n",
    "            \"WaitTime\": 300,\n",
    "            \"Next\": \"ProcessESGFwps\"\n",
    "        },\n",
    "        \"ProcessESGFwps\": {\n",
    "            \"Comment\": \"Process Web Processing Services for ESGF\",\n",
    "            \"Type\": \"Action\",\n",
    "            \"ActionUrl\": \"https://compute.actions.globus.org/\",\n",
    "            \"Parameters\": {\n",
    "                \"endpoint.$\": \"$.input.compute_endpoint\",\n",
    "                \"function.$\": \"$.input.esgf_function\",\n",
    "                \"kwargs.$\": \"$.input.esgf_kwargs\"\n",
    "            },\n",
    "            \"ResultPath\": \"$.ESGF_output\",\n",
    "            \"WaitTime\": 600,\n",
    "            \"End\": True\n",
    "        },\n",
    "    }\n",
    "}"
   ]
  },
  {
   "cell_type": "code",
   "execution_count": 65,
   "id": "def7edf1-2760-47b7-9eca-c79b3be889a6",
   "metadata": {
    "tags": []
   },
   "outputs": [],
   "source": [
    "flow_input = {\n",
    "    \"input\": {\n",
    "        \"source\": {\n",
    "            \"id\": \"03e6a23b-fb93-11ef-985b-0207be7ee3a1\",\n",
    "            \"path\": esgf_wps_data[\"odir\"]\n",
    "        },\n",
    "        \"destination\": {\n",
    "            \"id\": \"03e6a23b-fb93-11ef-985b-0207be7ee3a1\",\n",
    "            \"path\": \"/Users/mgrover/git_repos/esgf-crocus-globus-flows/flows/esgf/output\"\n",
    "        },\n",
    "        \"compute_endpoint\": compute_endpoint,\n",
    "        \"esgf_kwargs\": esgf_wps_data,\n",
    "        \"esgf_function\": function_id,\n",
    "    }\n",
    "}"
   ]
  },
  {
   "cell_type": "code",
   "execution_count": 67,
   "id": "2886445f-c0f9-45c2-9daf-f36a1a3009a5",
   "metadata": {
    "tags": []
   },
   "outputs": [
    {
     "data": {
      "text/plain": [
       "{'input': {'source': {'id': '03e6a23b-fb93-11ef-985b-0207be7ee3a1',\n",
       "   'path': '/Users/mgrover/git_repos/esgf-crocus-globus-flows/data'},\n",
       "  'destination': {'id': '03e6a23b-fb93-11ef-985b-0207be7ee3a1',\n",
       "   'path': '/Users/mgrover/git_repos/esgf-crocus-globus-flows/flows/esgf/output'},\n",
       "  'compute_endpoint': '66848d37-a40d-4c46-ac49-1bcc4bad1e54',\n",
       "  'esgf_kwargs': {'node': 'DKRZ',\n",
       "   'start_date': '1990-01-01',\n",
       "   'end_date': '2000-01-01',\n",
       "   'lat_min': 0,\n",
       "   'lat_max': 35,\n",
       "   'lon_min': 65,\n",
       "   'lon_max': 100,\n",
       "   'average_frequency': 'year',\n",
       "   'experiment_id': ['historical'],\n",
       "   'variable_id': ['tas'],\n",
       "   'member_id': ['r1i1p1f1'],\n",
       "   'table_id': ['Amon'],\n",
       "   'institution_id': ['MIROC'],\n",
       "   'odir': '/Users/mgrover/git_repos/esgf-crocus-globus-flows/data'},\n",
       "  'esgf_function': '35e5c49c-379e-4d6c-8430-1508caacbf56'}}"
      ]
     },
     "execution_count": 67,
     "metadata": {},
     "output_type": "execute_result"
    }
   ],
   "source": [
    "flow_input"
   ]
  },
  {
   "cell_type": "code",
   "execution_count": 60,
   "id": "859c8849-80cc-484d-908e-964f9b05f00a",
   "metadata": {
    "tags": []
   },
   "outputs": [],
   "source": [
    "flow = flows_client.create_flow(title=\"ESGF Flow Local\", definition=flow_definition, input_schema={})"
   ]
  },
  {
   "cell_type": "code",
   "execution_count": 61,
   "id": "9319177a-a1d7-4fbb-a9ad-d0fb73859c7f",
   "metadata": {
    "tags": []
   },
   "outputs": [
    {
     "data": {
      "text/plain": [
       "'09b97ed1-e935-4f72-9ed0-858057931e0b'"
      ]
     },
     "execution_count": 61,
     "metadata": {},
     "output_type": "execute_result"
    }
   ],
   "source": [
    "flow_id = flow['id']\n",
    "flow_id"
   ]
  },
  {
   "cell_type": "code",
   "execution_count": 62,
   "id": "163507a9-4b47-4a67-b5a5-1ef0e99e9efd",
   "metadata": {
    "tags": []
   },
   "outputs": [],
   "source": [
    "specific_flow_client = globus_sdk.SpecificFlowClient(\n",
    "    flow_id=flow_id,\n",
    "    app=my_app,\n",
    ")"
   ]
  },
  {
   "cell_type": "code",
   "execution_count": 68,
   "id": "c6472934-c1e5-4129-a67a-8abfd362f61c",
   "metadata": {
    "tags": []
   },
   "outputs": [],
   "source": [
    "run = specific_flow_client.run_flow(\n",
    "  body=flow_input,\n",
    "  label=\"ESGF WPS Example\",\n",
    "  tags=['ESGF', 'WPS', 'local']\n",
    ")"
   ]
  },
  {
   "cell_type": "code",
   "execution_count": 69,
   "id": "816a94b7-87a4-4d3d-9ff0-587ce7108913",
   "metadata": {
    "tags": []
   },
   "outputs": [
    {
     "name": "stdout",
     "output_type": "stream",
     "text": [
      "This flow can be monitored in the Web App:\n",
      "https://app.globus.org/runs/a809b54c-3ee4-4e14-863f-5bda96850a56\n",
      "Flow run started with ID: a809b54c-3ee4-4e14-863f-5bda96850a56 - Status: ACTIVE\n",
      "Run status: ACTIVE\n",
      "Run status: ACTIVE\n",
      "Run status: ACTIVE\n",
      "Run status: ACTIVE\n",
      "Run status: ACTIVE\n",
      "Run status: ACTIVE\n",
      "Run status: ACTIVE\n",
      "Run status: ACTIVE\n",
      "Run status: SUCCEEDED\n",
      "{\n",
      "  \"run_id\": \"a809b54c-3ee4-4e14-863f-5bda96850a56\",\n",
      "  \"action_id\": \"a809b54c-3ee4-4e14-863f-5bda96850a56\",\n",
      "  \"flow_id\": \"09b97ed1-e935-4f72-9ed0-858057931e0b\",\n",
      "  \"flow_title\": \"ESGF Flow Local\",\n",
      "  \"flow_last_updated\": \"2025-04-02T14:09:49.492555+00:00\",\n",
      "  \"start_time\": \"2025-04-02T14:11:53.655981+00:00\",\n",
      "  \"completion_time\": \"2025-04-02T14:12:40.276000+00:00\",\n",
      "  \"status\": \"SUCCEEDED\",\n",
      "  \"display_status\": \"SUCCEEDED\",\n",
      "  \"details\": {\n",
      "    \"code\": \"FlowSucceeded\",\n",
      "    \"output\": {\n",
      "      \"input\": {\n",
      "        \"source\": {\n",
      "          \"id\": \"03e6a23b-fb93-11ef-985b-0207be7ee3a1\",\n",
      "          \"path\": \"/Users/mgrover/git_repos/esgf-crocus-globus-flows/data\"\n",
      "        },\n",
      "        \"destination\": {\n",
      "          \"id\": \"03e6a23b-fb93-11ef-985b-0207be7ee3a1\",\n",
      "          \"path\": \"/Users/mgrover/git_repos/esgf-crocus-globus-flows/flows/esgf/output\"\n",
      "        },\n",
      "        \"esgf_kwargs\": {\n",
      "          \"node\": \"DKRZ\",\n",
      "          \"odir\": \"/Users/mgrover/git_repos/esgf-crocus-globus-flows/data\",\n",
      "          \"lat_max\": 35,\n",
      "          \"lat_min\": 0,\n",
      "          \"lon_max\": 100,\n",
      "          \"lon_min\": 65,\n",
      "          \"end_date\": \"2000-01-01\",\n",
      "          \"table_id\": [\n",
      "            \"Amon\"\n",
      "          ],\n",
      "          \"member_id\": [\n",
      "            \"r1i1p1f1\"\n",
      "          ],\n",
      "          \"start_date\": \"1990-01-01\",\n",
      "          \"variable_id\": [\n",
      "            \"tas\"\n",
      "          ],\n",
      "          \"experiment_id\": [\n",
      "            \"historical\"\n",
      "          ],\n",
      "          \"institution_id\": [\n",
      "            \"MIROC\"\n",
      "          ],\n",
      "          \"average_frequency\": \"year\"\n",
      "        },\n",
      "        \"esgf_function\": \"35e5c49c-379e-4d6c-8430-1508caacbf56\",\n",
      "        \"compute_endpoint\": \"66848d37-a40d-4c46-ac49-1bcc4bad1e54\"\n",
      "      },\n",
      "      \"ESGF_output\": {\n",
      "        \"label\": null,\n",
      "        \"status\": \"SUCCEEDED\",\n",
      "        \"details\": {\n",
      "          \"result\": [\n",
      "            [\n",
      "              \"/Users/mgrover/git_repos/esgf-crocus-globus-flows/data/tas_Amon_MIROC6_historical_r1i1p1f1_gn_19900101-19990101_avg-year.nc\"\n",
      "            ]\n",
      "          ],\n",
      "          \"results\": [\n",
      "            {\n",
      "              \"output\": [\n",
      "                \"/Users/mgrover/git_repos/esgf-crocus-globus-flows/data/tas_Amon_MIROC6_historical_r1i1p1f1_gn_19900101-19990101_avg-year.nc\"\n",
      "              ],\n",
      "              \"task_id\": \"acffe58e-4109-4ad4-ba86-971f9f3b1ca1\"\n",
      "            }\n",
      "          ]\n",
      "        },\n",
      "        \"action_id\": \"tg_9e4f4d7c-76ab-48d9-848a-129415427d07\",\n",
      "        \"manage_by\": [\n",
      "          \"urn:globus:auth:identity:85e67bd6-4b28-46e3-a2fd-3d046c6dafcf\"\n",
      "        ],\n",
      "        \"creator_id\": \"urn:globus:auth:identity:85e67bd6-4b28-46e3-a2fd-3d046c6dafcf\",\n",
      "        \"monitor_by\": [\n",
      "          \"urn:globus:auth:identity:85e67bd6-4b28-46e3-a2fd-3d046c6dafcf\"\n",
      "        ],\n",
      "        \"start_time\": \"2025-04-02T14:12:18.712557+00:00\",\n",
      "        \"state_name\": \"ProcessESGFwps\",\n",
      "        \"release_after\": null,\n",
      "        \"display_status\": \"All tasks completed\",\n",
      "        \"completion_time\": \"2025-04-02T14:12:39.539551+00:00\"\n",
      "      },\n",
      "      \"TransferFiles\": {\n",
      "        \"label\": null,\n",
      "        \"status\": \"SUCCEEDED\",\n",
      "        \"details\": {\n",
      "          \"type\": \"TRANSFER\",\n",
      "          \"files\": 1,\n",
      "          \"is_ok\": null,\n",
      "          \"label\": \"For Action id d8b3d5a4-e626-4686-820d-5cefdc5129a8\",\n",
      "          \"faults\": 0,\n",
      "          \"status\": \"SUCCEEDED\",\n",
      "          \"command\": \"API 0.10\",\n",
      "          \"task_id\": \"6e52eed0-0fcc-11f0-b774-0affd9d92941\",\n",
      "          \"deadline\": \"2025-04-03T14:11:55+00:00\",\n",
      "          \"owner_id\": \"85e67bd6-4b28-46e3-a2fd-3d046c6dafcf\",\n",
      "          \"symlinks\": 0,\n",
      "          \"username\": \"u_qxthxvslfbdohix5hucgy3npz4\",\n",
      "          \"DATA_TYPE\": \"task\",\n",
      "          \"is_paused\": false,\n",
      "          \"sync_level\": null,\n",
      "          \"directories\": 2,\n",
      "          \"fatal_error\": null,\n",
      "          \"nice_status\": null,\n",
      "          \"encrypt_data\": false,\n",
      "          \"filter_rules\": null,\n",
      "          \"request_time\": \"2025-04-02T14:11:55+00:00\",\n",
      "          \"files_skipped\": 0,\n",
      "          \"subtasks_total\": 4,\n",
      "          \"completion_time\": \"2025-04-02T14:12:03+00:00\",\n",
      "          \"history_deleted\": false,\n",
      "          \"source_endpoint\": \"u_s7a5uci5nvaytjn6nlr7qwxcd4#03e6a23b-fb93-11ef-985b-0207be7ee3a1\",\n",
      "          \"subtasks_failed\": 0,\n",
      "          \"verify_checksum\": false,\n",
      "          \"source_base_path\": null,\n",
      "          \"subtasks_expired\": 0,\n",
      "          \"subtasks_pending\": 0,\n",
      "          \"bytes_checksummed\": 0,\n",
      "          \"bytes_transferred\": 79718,\n",
      "          \"canceled_by_admin\": null,\n",
      "          \"files_transferred\": 1,\n",
      "          \"source_local_user\": null,\n",
      "          \"subtasks_canceled\": 0,\n",
      "          \"subtasks_retrying\": 0,\n",
      "          \"preserve_timestamp\": false,\n",
      "          \"recursive_symlinks\": \"ignore\",\n",
      "          \"skip_source_errors\": false,\n",
      "          \"source_endpoint_id\": \"03e6a23b-fb93-11ef-985b-0207be7ee3a1\",\n",
      "          \"subtasks_succeeded\": 4,\n",
      "          \"nice_status_details\": null,\n",
      "          \"destination_endpoint\": \"u_s7a5uci5nvaytjn6nlr7qwxcd4#03e6a23b-fb93-11ef-985b-0207be7ee3a1\",\n",
      "          \"fail_on_quota_errors\": false,\n",
      "          \"destination_base_path\": null,\n",
      "          \"destination_local_user\": null,\n",
      "          \"nice_status_expires_in\": null,\n",
      "          \"destination_endpoint_id\": \"03e6a23b-fb93-11ef-985b-0207be7ee3a1\",\n",
      "          \"subtasks_skipped_errors\": 0,\n",
      "          \"delete_destination_extra\": false,\n",
      "          \"source_local_user_status\": null,\n",
      "          \"canceled_by_admin_message\": null,\n",
      "          \"effective_bytes_per_second\": 10385,\n",
      "          \"source_endpoint_display_name\": \"Work Laptop - Macbook Pro\",\n",
      "          \"destination_local_user_status\": null,\n",
      "          \"nice_status_short_description\": null,\n",
      "          \"destination_endpoint_display_name\": \"Work Laptop - Macbook Pro\"\n",
      "        },\n",
      "        \"action_id\": \"d8b3d5a4-e626-4686-820d-5cefdc5129a8\",\n",
      "        \"manage_by\": [],\n",
      "        \"creator_id\": \"urn:globus:auth:identity:85e67bd6-4b28-46e3-a2fd-3d046c6dafcf\",\n",
      "        \"monitor_by\": [],\n",
      "        \"start_time\": \"2025-04-02 14:11:54.623395+00:00\",\n",
      "        \"state_name\": \"TransferInput\",\n",
      "        \"release_after\": \"P30D\",\n",
      "        \"display_status\": \"SUCCEEDED\",\n",
      "        \"completion_time\": \"2025-04-02T14:11:54.623417+00:00\"\n",
      "      }\n",
      "    },\n",
      "    \"description\": \"The Flow run reached a successful completion state\"\n",
      "  },\n",
      "  \"run_owner\": \"urn:globus:auth:identity:85e67bd6-4b28-46e3-a2fd-3d046c6dafcf\",\n",
      "  \"created_by\": \"urn:globus:auth:identity:85e67bd6-4b28-46e3-a2fd-3d046c6dafcf\",\n",
      "  \"run_managers\": [],\n",
      "  \"manage_by\": [],\n",
      "  \"run_monitors\": [],\n",
      "  \"monitor_by\": [],\n",
      "  \"user_role\": \"run_owner\",\n",
      "  \"label\": \"ESGF WPS Example\",\n",
      "  \"tags\": [\n",
      "    \"ESGF\",\n",
      "    \"WPS\",\n",
      "    \"local\"\n",
      "  ]\n",
      "}\n"
     ]
    }
   ],
   "source": [
    "# Get run details\n",
    "# run = flows_client.get_run(run_id)\n",
    "\n",
    "run_id = run['run_id']\n",
    "run_status = run['status']\n",
    "print(\"This flow can be monitored in the Web App:\")\n",
    "print(f\"https://app.globus.org/runs/{run_id}\")\n",
    "print(f\"Flow run started with ID: {run_id} - Status: {run_status}\")\n",
    "\n",
    "# Poll the Flow ser/vice to check on the status of the flow\n",
    "while run_status == 'ACTIVE':\n",
    "    time.sleep(5)\n",
    "    run = flows_client.get_run(run_id)\n",
    "    run_status = run['status']\n",
    "    print(f'Run status: {run_status}')\n",
    "    \n",
    "# Run completed\n",
    "print(json.dumps(run.data, indent=2))"
   ]
  },
  {
   "cell_type": "code",
   "execution_count": null,
   "id": "87e022b0-e6a5-49c7-a04d-fb8165527d8d",
   "metadata": {},
   "outputs": [],
   "source": []
  }
 ],
 "metadata": {
  "kernelspec": {
   "display_name": "Python 3 (ipykernel)",
   "language": "python",
   "name": "python3"
  },
  "language_info": {
   "codemirror_mode": {
    "name": "ipython",
    "version": 3
   },
   "file_extension": ".py",
   "mimetype": "text/x-python",
   "name": "python",
   "nbconvert_exporter": "python",
   "pygments_lexer": "ipython3",
   "version": "3.10.16"
  }
 },
 "nbformat": 4,
 "nbformat_minor": 5
}
